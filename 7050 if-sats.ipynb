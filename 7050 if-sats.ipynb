{
 "cells": [
  {
   "cell_type": "code",
   "execution_count": 1,
   "metadata": {},
   "outputs": [],
   "source": [
    "run = True\n",
    "while run == True:\n",
    "    tal = float(input('skriv en vinkel i grader: '))\n",
    "    if tal > 90:\n",
    "        print('trubbig')\n",
    "    elif tal < 90:\n",
    "        print('spetsig')\n",
    "    else:\n",
    "        print('rät')\n",
    "    print(\"Är du klar?\")\n",
    "    klar = input(\"Ja eller Nej\\n\")\n",
    "    if klar == \"Ja\" or \"ja\":\n",
    "        run = False"
   ]
  },
  {
   "cell_type": "code",
   "execution_count": null,
   "metadata": {},
   "outputs": [],
   "source": [
    "svar = input('Ange Sveriges huvudstad: ')\n",
    "if svar == 'Stockholm' or svar == 'stockholm':\n",
    "    print('Rätt')\n",
    "else:\n",
    "    print('Fel!')"
   ]
  },
  {
   "cell_type": "markdown",
   "metadata": {},
   "source": [
    "Uppgift 1"
   ]
  },
  {
   "cell_type": "code",
   "execution_count": null,
   "metadata": {},
   "outputs": [],
   "source": [
    "tal = float(input('mata in ett tal: '))\n",
    "if tal > 0:\n",
    "    print('positivt')\n",
    "elif tal < 0:\n",
    "    print('negativt')\n",
    "else:\n",
    "    print('noll')"
   ]
  },
  {
   "cell_type": "markdown",
   "metadata": {},
   "source": [
    "Uppgift 2"
   ]
  },
  {
   "cell_type": "code",
   "execution_count": null,
   "metadata": {},
   "outputs": [],
   "source": [
    "tal = int(input('mata in näst sista siffran i ditt personummer: '))\n",
    "if tal % 2 == 0:\n",
    "    print('du är en tjej')\n",
    "else:\n",
    "    print('du är en kille')"
   ]
  },
  {
   "cell_type": "markdown",
   "metadata": {},
   "source": [
    "Uppgift 3"
   ]
  },
  {
   "cell_type": "code",
   "execution_count": null,
   "metadata": {},
   "outputs": [],
   "source": [
    "tal = float(input('skriv ett tal: '))\n",
    "tal2 = float(input('skriv ett till tal: '))\n",
    "if tal > tal2:\n",
    "    print(tal, 'är större')\n",
    "elif tal2 > tal:\n",
    "    print(tal2, 'är större')\n",
    "else:\n",
    "    print('båda tal är lika stora')"
   ]
  },
  {
   "cell_type": "markdown",
   "metadata": {},
   "source": [
    "Uppgift 4"
   ]
  },
  {
   "cell_type": "code",
   "execution_count": null,
   "metadata": {},
   "outputs": [],
   "source": [
    "text = 'detta är ett'\n",
    "tal = float(input('skriv ett tal: '))\n",
    "if 0 <= tal <= 9:\n",
    "    print(text, 'ensiffrigt tal')\n",
    "elif 10 <= tal <= 99:\n",
    "    print(text, 'tvåsiffrigt tal')\n",
    "elif 100 <= tal <= 999:\n",
    "    print(text, 'tresiffrigt tal')\n",
    "elif tal >= 1000:\n",
    "    print('detta är minst ett fyrasiffrigt tal')\n",
    "else:\n",
    "    print(text, 'negativt tal')"
   ]
  },
  {
   "cell_type": "markdown",
   "metadata": {},
   "source": [
    "Uppgift 5"
   ]
  },
  {
   "cell_type": "code",
   "execution_count": null,
   "metadata": {},
   "outputs": [],
   "source": [
    "print('mata in tre tal')\n",
    "tal1 = float(input('tal 1: '))\n",
    "tal2 = float(input('tal 2: '))\n",
    "tal3 = float(input('tal 3: '))\n",
    "if tal2 > tal1 < tal3:\n",
    "    print(tal1, 'är min1st')\n",
    "elif tal1 > tal2 < tal3:\n",
    "    print(tal2, 'är minst')\n",
    "elif tal1 > tal3 < tal2:\n",
    "    print(tal3, 'är minst')\n",
    "elif tal1 == tal2 == tal3:\n",
    "    print('de är lika stora')\n",
    "elif tal1 == tal2 < tal3:\n",
    "    print(tal1, 'är minst')\n",
    "elif tal1 == tal3 < tal2:\n",
    "    print(tal1, 'är minst')\n",
    "else:\n",
    "    print(tal2, 'är minst')"
   ]
  },
  {
   "cell_type": "markdown",
   "metadata": {},
   "source": [
    "Uppgift 6"
   ]
  },
  {
   "cell_type": "code",
   "execution_count": null,
   "metadata": {},
   "outputs": [],
   "source": [
    "print('Skriv in tre OLIKA HELtal')\n",
    "tal1 = int(input('tal 1: '))\n",
    "tal2 = int(input('tal 2: '))\n",
    "tal3 = int(input('tal 3: '))\n",
    "print('Detta är talen i storleksordning:')\n",
    "if tal1 < tal2 < tal3:\n",
    "    print(tal1, tal2, tal3)\n",
    "elif tal2 < tal3 < tal1:\n",
    "    print(tal2, tal3, tal1)\n",
    "elif tal3 < tal2 < tal1:\n",
    "    print(tal3, tal2, tal1)\n",
    "elif tal1 < tal3 < tal2:\n",
    "    print(tal1, tal3, tal2)\n",
    "elif tal2 < tal1 < tal3:\n",
    "    print(tal2, tal1, tal3)\n",
    "else:\n",
    "    print(tal3, tal1, tal2)"
   ]
  },
  {
   "cell_type": "markdown",
   "metadata": {},
   "source": [
    "Uppgift 7"
   ]
  },
  {
   "cell_type": "code",
   "execution_count": null,
   "metadata": {},
   "outputs": [],
   "source": [
    "text = 'Du är född under'\n",
    "månad = int(input('skriv in nummret på din födelsemånad: '))\n",
    "if 1 == månad == 2:\n",
    "    print(text, 'vintern')\n",
    "elif 3 <= månad <= 5:\n",
    "    print(text, 'våren')\n",
    "elif 6 <= månad <= 8:\n",
    "    print(text, 'sommaren')\n",
    "elif 9 <= månad <= 11:\n",
    "    print(text, 'hösten')\n",
    "elif 0 <= månad >= 13:\n",
    "    print('detta är inte en månad')\n",
    "else:\n",
    "    print(text, 'vintern')"
   ]
  },
  {
   "cell_type": "markdown",
   "metadata": {},
   "source": [
    "Uppgift 8 - extra grejer"
   ]
  },
  {
   "cell_type": "code",
   "execution_count": null,
   "metadata": {},
   "outputs": [],
   "source": [
    "import random\n",
    "\n",
    "slumptal = random.randint(1,6)\n",
    "print(slumptal)\n",
    "if slumptal == 6:\n",
    "    print('Du vann!')\n",
    "else:\n",
    "    print('Du förlora ):')"
   ]
  }
 ],
 "metadata": {
  "kernelspec": {
   "display_name": "Python 3",
   "language": "python",
   "name": "python3"
  },
  "language_info": {
   "codemirror_mode": {
    "name": "ipython",
    "version": 3
   },
   "file_extension": ".py",
   "mimetype": "text/x-python",
   "name": "python",
   "nbconvert_exporter": "python",
   "pygments_lexer": "ipython3",
   "version": "3.11.5"
  },
  "orig_nbformat": 4
 },
 "nbformat": 4,
 "nbformat_minor": 2
}
