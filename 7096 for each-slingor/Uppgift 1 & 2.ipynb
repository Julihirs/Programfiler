{
 "cells": [
  {
   "cell_type": "code",
   "execution_count": null,
   "metadata": {},
   "outputs": [],
   "source": [
    "text = input()\n",
    "antalA = 0\n",
    "for bokstav in text:\n",
    "    if bokstav == 'a':\n",
    "        antalA = antalA + 1\n",
    "\n",
    "text = text.lower().replace(\"a\",\"\")\n",
    "print(text)"
   ]
  },
  {
   "cell_type": "code",
   "execution_count": null,
   "metadata": {},
   "outputs": [],
   "source": [
    "# 1\n",
    "text = '1001011'\n",
    "antal1 = 0\n",
    "\n",
    "for siffra in text:\n",
    "    if siffra == '1':\n",
    "        antal1 = antal1 + 1\n",
    "\n",
    "print('antal 1:', antal1)"
   ]
  },
  {
   "cell_type": "code",
   "execution_count": null,
   "metadata": {},
   "outputs": [],
   "source": [
    "# 2\n",
    "text = '13324343532611465515256554532451154255241636666454'\n",
    "antal6 = 0\n",
    "\n",
    "for siffra in text:\n",
    "    if siffra == '6':\n",
    "        antal6 = antal6 + 1\n",
    "\n",
    "print('antal 6:', antal6)"
   ]
  }
 ],
 "metadata": {
  "kernelspec": {
   "display_name": "Python 3",
   "language": "python",
   "name": "python3"
  },
  "language_info": {
   "codemirror_mode": {
    "name": "ipython",
    "version": 3
   },
   "file_extension": ".py",
   "mimetype": "text/x-python",
   "name": "python",
   "nbconvert_exporter": "python",
   "pygments_lexer": "ipython3",
   "version": "3.11.5"
  }
 },
 "nbformat": 4,
 "nbformat_minor": 2
}
